{
 "cells": [
  {
   "cell_type": "markdown",
   "metadata": {},
   "source": [
    "# To celebrate the end of your first week: a long warmup!\n",
    "\n",
    "# Part 1: Numpy practice"
   ]
  },
  {
   "cell_type": "markdown",
   "metadata": {},
   "source": [
    "(If you get stuck at one part, try the other part)\n",
    "\n",
    "Run the cell below to load the machinery for testing your work, and then \n",
    "\n",
    "- import the numpy library with the alias 'np'"
   ]
  },
  {
   "cell_type": "code",
   "execution_count": 1,
   "metadata": {},
   "outputs": [],
   "source": [
    "#Run this cell without changes\n",
    "\n",
    "from test_background import test_dict, run_test"
   ]
  },
  {
   "cell_type": "code",
   "execution_count": 2,
   "metadata": {},
   "outputs": [],
   "source": [
    "#Your code here\n",
    "import numpy as np"
   ]
  },
  {
   "cell_type": "markdown",
   "metadata": {},
   "source": [
    "Create a variable called x that is a list of 100 0s"
   ]
  },
  {
   "cell_type": "code",
   "execution_count": 39,
   "metadata": {},
   "outputs": [
    {
     "data": {
      "text/plain": [
       "array([0., 0., 0., 0., 0., 0., 0., 0., 0., 0., 0., 0., 0., 0., 0., 0., 0.,\n",
       "       0., 0., 0., 0., 0., 0., 0., 0., 0., 0., 0., 0., 0., 0., 0., 0., 0.,\n",
       "       0., 0., 0., 0., 0., 0., 0., 0., 0., 0., 0., 0., 0., 0., 0., 0., 0.,\n",
       "       0., 0., 0., 0., 0., 0., 0., 0., 0., 0., 0., 0., 0., 0., 0., 0., 0.,\n",
       "       0., 0., 0., 0., 0., 0., 0., 0., 0., 0., 0., 0., 0., 0., 0., 0., 0.,\n",
       "       0., 0., 0., 0., 0., 0., 0., 0., 0., 0., 0., 0., 0., 0., 0.])"
      ]
     },
     "execution_count": 39,
     "metadata": {},
     "output_type": "execute_result"
    }
   ],
   "source": [
    "#Your code here\n",
    "\n",
    "x = np.zeros(100)\n",
    "x"
   ]
  },
  {
   "cell_type": "code",
   "execution_count": 6,
   "metadata": {},
   "outputs": [
    {
     "data": {
      "text/plain": [
       "'Hey, you did it.  Good job.'"
      ]
     },
     "execution_count": 6,
     "metadata": {},
     "output_type": "execute_result"
    }
   ],
   "source": [
    "#test by running this cell\n",
    "\n",
    "run_test(x, 'x1')"
   ]
  },
  {
   "cell_type": "markdown",
   "metadata": {},
   "source": [
    "Find another way to create a list of 100 0s; assign it to a new variable called y"
   ]
  },
  {
   "cell_type": "code",
   "execution_count": 7,
   "metadata": {},
   "outputs": [],
   "source": [
    "#Your code here\n",
    "y = [0] * 100"
   ]
  },
  {
   "cell_type": "code",
   "execution_count": 8,
   "metadata": {},
   "outputs": [
    {
     "data": {
      "text/plain": [
       "'Hey, you did it.  Good job.'"
      ]
     },
     "execution_count": 8,
     "metadata": {},
     "output_type": "execute_result"
    }
   ],
   "source": [
    "#test by running this cell\n",
    "\n",
    "run_test(y, 'y1')"
   ]
  },
  {
   "cell_type": "markdown",
   "metadata": {},
   "source": [
    "Turn x and y into numpy arrays"
   ]
  },
  {
   "cell_type": "code",
   "execution_count": 9,
   "metadata": {},
   "outputs": [
    {
     "data": {
      "text/plain": [
       "array([0, 0, 0, 0, 0, 0, 0, 0, 0, 0, 0, 0, 0, 0, 0, 0, 0, 0, 0, 0, 0, 0,\n",
       "       0, 0, 0, 0, 0, 0, 0, 0, 0, 0, 0, 0, 0, 0, 0, 0, 0, 0, 0, 0, 0, 0,\n",
       "       0, 0, 0, 0, 0, 0, 0, 0, 0, 0, 0, 0, 0, 0, 0, 0, 0, 0, 0, 0, 0, 0,\n",
       "       0, 0, 0, 0, 0, 0, 0, 0, 0, 0, 0, 0, 0, 0, 0, 0, 0, 0, 0, 0, 0, 0,\n",
       "       0, 0, 0, 0, 0, 0, 0, 0, 0, 0, 0, 0])"
      ]
     },
     "execution_count": 9,
     "metadata": {},
     "output_type": "execute_result"
    }
   ],
   "source": [
    "#Your code here\n",
    "y = np.array(y)\n",
    "y"
   ]
  },
  {
   "cell_type": "code",
   "execution_count": 10,
   "metadata": {},
   "outputs": [
    {
     "data": {
      "text/plain": [
       "'Hey, you did it.  Good job.'"
      ]
     },
     "execution_count": 10,
     "metadata": {},
     "output_type": "execute_result"
    }
   ],
   "source": [
    "#run this cell to test yer x\n",
    "\n",
    "run_test(x, 'x2')"
   ]
  },
  {
   "cell_type": "code",
   "execution_count": 11,
   "metadata": {},
   "outputs": [
    {
     "data": {
      "text/plain": [
       "'Hey, you did it.  Good job.'"
      ]
     },
     "execution_count": 11,
     "metadata": {},
     "output_type": "execute_result"
    }
   ],
   "source": [
    "#run this cell to test yer y\n",
    "\n",
    "run_test(y, 'y2')"
   ]
  },
  {
   "cell_type": "markdown",
   "metadata": {},
   "source": [
    "In both x and y, insert all of the first 100 [positive integers](https://mathworld.wolfram.com/PositiveInteger.html) in-between the 0s\n",
    "\n",
    "With x, start inserting at index 0\n",
    "\n",
    "With y, start at index 1\n",
    "\n",
    "*Hint: couple ways to do this, but [here's one](https://numpy.org/doc/1.18/reference/generated/numpy.insert.html)*"
   ]
  },
  {
   "cell_type": "code",
   "execution_count": 40,
   "metadata": {},
   "outputs": [
    {
     "data": {
      "text/plain": [
       "array([  0,   1,   0,   2,   0,   3,   0,   4,   0,   5,   0,   6,   0,\n",
       "         7,   0,   8,   0,   9,   0,  10,   0,  11,   0,  12,   0,  13,\n",
       "         0,  14,   0,  15,   0,  16,   0,  17,   0,  18,   0,  19,   0,\n",
       "        20,   0,  21,   0,  22,   0,  23,   0,  24,   0,  25,   0,  26,\n",
       "         0,  27,   0,  28,   0,  29,   0,  30,   0,  31,   0,  32,   0,\n",
       "        33,   0,  34,   0,  35,   0,  36,   0,  37,   0,  38,   0,  39,\n",
       "         0,  40,   0,  41,   0,  42,   0,  43,   0,  44,   0,  45,   0,\n",
       "        46,   0,  47,   0,  48,   0,  49,   0,  50,   0,  51,   0,  52,\n",
       "         0,  53,   0,  54,   0,  55,   0,  56,   0,  57,   0,  58,   0,\n",
       "        59,   0,  60,   0,  61,   0,  62,   0,  63,   0,  64,   0,  65,\n",
       "         0,  66,   0,  67,   0,  68,   0,  69,   0,  70,   0,  71,   0,\n",
       "        72,   0,  73,   0,  74,   0,  75,   0,  76,   0,  77,   0,  78,\n",
       "         0,  79,   0,  80,   0,  81,   0,  82,   0,  83,   0,  84,   0,\n",
       "        85,   0,  86,   0,  87,   0,  88,   0,  89,   0,  90,   0,  91,\n",
       "         0,  92,   0,  93,   0,  94,   0,  95,   0,  96,   0,  97,   0,\n",
       "        98,   0,  99,   0, 100])"
      ]
     },
     "execution_count": 40,
     "metadata": {},
     "output_type": "execute_result"
    }
   ],
   "source": [
    "#Your code here\n",
    "np.insert(x, range(1, 101), [range(1, 101)])\n",
    "\n",
    "np.insert(y, range(1, 101), [range(1, 101)])\n",
    "# np.insert(a, [1], [[1],[2],[3]], axis=1)\n",
    "# array([[1, 1, 1],\n",
    "#        [2, 2, 2],\n",
    "#        [3, 3, 3]])"
   ]
  },
  {
   "cell_type": "code",
   "execution_count": 34,
   "metadata": {},
   "outputs": [
    {
     "data": {
      "text/plain": [
       "'Try again'"
      ]
     },
     "execution_count": 34,
     "metadata": {},
     "output_type": "execute_result"
    }
   ],
   "source": [
    "#run this cell to test yer x\n",
    "\n",
    "run_test(x, 'x3')"
   ]
  },
  {
   "cell_type": "code",
   "execution_count": 35,
   "metadata": {},
   "outputs": [
    {
     "data": {
      "text/plain": [
       "'Try again'"
      ]
     },
     "execution_count": 35,
     "metadata": {},
     "output_type": "execute_result"
    }
   ],
   "source": [
    "#run this cell to test yer y\n",
    "\n",
    "run_test(y, 'y3')"
   ]
  },
  {
   "cell_type": "markdown",
   "metadata": {},
   "source": [
    "Remove all the 0s from both x and y\n",
    "\n",
    "Use different methods of removal for x and y"
   ]
  },
  {
   "cell_type": "code",
   "execution_count": 43,
   "metadata": {},
   "outputs": [
    {
     "data": {
      "text/plain": [
       "array([0., 0., 0., 0., 0., 0., 0., 0., 0., 0., 0., 0., 0., 0., 0., 0., 0.,\n",
       "       0., 0., 0., 0., 0., 0., 0., 0., 0., 0., 0., 0., 0., 0., 0., 0., 0.,\n",
       "       0., 0., 0., 0., 0., 0., 0., 0., 0., 0., 0., 0., 0., 0., 0., 0., 0.,\n",
       "       0., 0., 0., 0., 0., 0., 0., 0., 0., 0., 0., 0., 0., 0., 0., 0., 0.,\n",
       "       0., 0., 0., 0., 0., 0., 0., 0., 0., 0., 0., 0., 0., 0., 0., 0., 0.,\n",
       "       0., 0., 0., 0., 0., 0., 0., 0., 0., 0., 0., 0., 0.])"
      ]
     },
     "execution_count": 43,
     "metadata": {},
     "output_type": "execute_result"
    }
   ],
   "source": [
    "#Your code here\n",
    "x = np.delete(x, 0)\n",
    "x\n",
    "\n",
    "y"
   ]
  },
  {
   "cell_type": "code",
   "execution_count": 42,
   "metadata": {},
   "outputs": [
    {
     "data": {
      "text/plain": [
       "'Try again'"
      ]
     },
     "execution_count": 42,
     "metadata": {},
     "output_type": "execute_result"
    }
   ],
   "source": [
    "#run this cell to test yer x\n",
    "\n",
    "run_test(x, 'x4')"
   ]
  },
  {
   "cell_type": "code",
   "execution_count": 199,
   "metadata": {},
   "outputs": [],
   "source": [
    "#run this cell to test yer y\n",
    "\n",
    "run_test(y, 'y4')"
   ]
  },
  {
   "cell_type": "markdown",
   "metadata": {},
   "source": [
    "# Part 2: Estimating pi (with viz!)\n",
    "\n",
    "(This is a little bit more math-y than the content we've covered so far)\n",
    "\n",
    "First import pyplot from matplotlib under the alias plt\n",
    "\n",
    "Also, run the command `%matplotlib inline` so that jupyter renders the plots inside the notebook"
   ]
  },
  {
   "cell_type": "code",
   "execution_count": 45,
   "metadata": {},
   "outputs": [],
   "source": [
    "#Your code here\n",
    "from matplotlib import pyplot as plt\n",
    "%matplotlib inline"
   ]
  },
  {
   "cell_type": "markdown",
   "metadata": {},
   "source": [
    "Picture a circle perfectly circumscribed inside a unit square\n",
    "\n",
    "or just look at the viz below\n",
    "\n",
    "![](viz/unit_square.png)"
   ]
  },
  {
   "cell_type": "markdown",
   "metadata": {},
   "source": [
    "#### Math refresher\n",
    "\n",
    "The area of the unit square is 1\n",
    "\n",
    "The radius of the circle is $\\frac{1}{2}$, and the area of the circle is $\\pi \\times (\\frac{1}{2})^2 = \\frac{\\pi}{4}$\n",
    "\n",
    "If we randomly throw points inside the square: \n",
    "\n",
    "$ \\lim \\limits_{points \\to \\infty} ($area covered by all points$) = 1 $\n",
    "\n",
    "and\n",
    "\n",
    "$ \\lim \\limits_{{points} \\to \\infty} ($area covered by points in circle$) = \\frac{\\pi}{4} $\n",
    "\n",
    "So, if we randomly throw *a finite number* of points in the square,\n",
    "\n",
    "$$\\frac{\\#ofCircle Points}{\\#ofTotal Points} \\approx \\frac{\\pi}{4}$$"
   ]
  },
  {
   "cell_type": "markdown",
   "metadata": {},
   "source": [
    "and\n",
    "\n",
    "$$ 4 \\times \\frac{\\#ofCircle Points}{\\#ofTotal Points} \\approx \\pi $$"
   ]
  },
  {
   "cell_type": "markdown",
   "metadata": {},
   "source": [
    "#### Look just tell me what we're doing here\n",
    "\n",
    "We're going to create a plot that, inside of a unit square whose lower-left corner is at (0,0):\n",
    "- plots 1000 random points\n",
    "- colors them differently if they're inside or outside an inscribed circle\n",
    "\n",
    "Then, we'll calculate our estimate for pi \n",
    "\n",
    "Two s t r e t c h goals:\n",
    "- calculate the error of the estimate\n",
    "- turn our work into a function that can recreate what we've done with an arbitrary number of points"
   ]
  },
  {
   "cell_type": "markdown",
   "metadata": {},
   "source": [
    "#### Let's graph\n",
    "\n",
    "First we're going to create the points to throw inside the square.\n",
    "\n",
    "- Use numpy to create a variable `x` that has 1000 randomly drawn floats (a numerical data type which has decimals, as opposed to `integers` which don't) between 0 and 1.\n",
    "\n",
    "- Use numpy to creat another variable `y` that has a different set of 1000 randomly-drawn floats b/t 0 and 1.\n",
    "\n",
    "These are the x and y coordinates for the random points we'll throw at the square and inscribed circle\n",
    "\n",
    "- Also, run `np.random.seed(33)` at the top of the cell\n",
    "\n",
    "This \"seeds\" the pseudorandom number generator to produce the same numbers each time the variables are instantiated\n",
    "\n",
    "[*Hint*](https://numpy.org/devdocs/reference/random/generated/numpy.random.random.html?highlight=random%20random#numpy.random.random)"
   ]
  },
  {
   "cell_type": "code",
   "execution_count": 54,
   "metadata": {},
   "outputs": [
    {
     "data": {
      "text/plain": [
       "numpy.ndarray"
      ]
     },
     "execution_count": 54,
     "metadata": {},
     "output_type": "execute_result"
    }
   ],
   "source": [
    "#Your code here\n",
    "np.random.seed(33)\n",
    "x = np.random.random(1000)\n",
    "y = np.random.random(1000)\n",
    "type(x)"
   ]
  },
  {
   "cell_type": "code",
   "execution_count": 52,
   "metadata": {},
   "outputs": [
    {
     "data": {
      "text/plain": [
       "'Hey, you did it.  Good job.'"
      ]
     },
     "execution_count": 52,
     "metadata": {},
     "output_type": "execute_result"
    }
   ],
   "source": [
    "#run this cell to check yer x\n",
    "\n",
    "run_test(x, 'x5')"
   ]
  },
  {
   "cell_type": "code",
   "execution_count": 53,
   "metadata": {},
   "outputs": [
    {
     "data": {
      "text/plain": [
       "'Hey, you did it.  Good job.'"
      ]
     },
     "execution_count": 53,
     "metadata": {},
     "output_type": "execute_result"
    }
   ],
   "source": [
    "#run this cell to check yer y\n",
    "\n",
    "run_test(y, 'y5')"
   ]
  },
  {
   "cell_type": "markdown",
   "metadata": {},
   "source": [
    "The x and y coordinates of the points inside the circle are \n",
    "$$ (x^2 + y^2)<=\\frac{1}{2} $$\n",
    "\n",
    "Select all the points in x inside the circle and assign them to the variable inside_x\n",
    "\n",
    "Do the same thing for the points in y, and assign them to the variable inside_y\n",
    "\n",
    "\n",
    "*Hint 1: For 1D arrays, addition and multiplication operates element by element.  Boolean selection of a 1D array also operates element by element.* \n",
    "\n",
    "*Eg if `ex1 = np.array([1,2,3])` and `ex2 = np.array([5,6,7])`*, \n",
    "\n",
    "\n",
    "`ex1[ex1*5+ex2*10<80]`\n",
    "\n",
    "= \n",
    "\n",
    "\"at each index value, \n",
    "\n",
    "if (the value of ex1 at that index)*5 +\n",
    "\n",
    "(the value of ex2 at that index)*10 < 80,\n",
    "\n",
    "include the value of ex1 at that index\" \n",
    "\n",
    "= \n",
    "\n",
    "`[1,2]`\n",
    "\n",
    "\n",
    "*Hint 2: the formula for a circle centered at (h,k) with radius r is* \n",
    "    $$(x-h)^2 + (y-k)^2 = r^2$$\n",
    "*Where is the center of a circle inscribed in a unit square whose lower-left corner is at (0,0)?  Are points inside the circle greater than or less than $r^2$?*"
   ]
  },
  {
   "cell_type": "code",
   "execution_count": 67,
   "metadata": {},
   "outputs": [
    {
     "data": {
      "text/plain": [
       "array([ True,  True,  True, False,  True,  True, False, False,  True,\n",
       "        True, False,  True, False,  True,  True, False, False,  True,\n",
       "        True,  True,  True,  True,  True, False,  True, False, False,\n",
       "       False,  True,  True, False, False,  True,  True,  True,  True,\n",
       "        True, False,  True, False,  True,  True,  True,  True,  True,\n",
       "        True,  True,  True,  True,  True,  True,  True, False,  True,\n",
       "       False,  True,  True, False,  True, False,  True,  True,  True,\n",
       "        True, False,  True,  True,  True, False,  True,  True,  True,\n",
       "       False, False,  True,  True, False,  True,  True,  True,  True,\n",
       "       False,  True,  True,  True,  True,  True,  True, False,  True,\n",
       "       False,  True,  True,  True,  True, False, False,  True,  True,\n",
       "        True,  True,  True,  True, False,  True, False,  True,  True,\n",
       "        True,  True,  True,  True,  True,  True,  True, False,  True,\n",
       "        True,  True,  True,  True,  True, False,  True,  True, False,\n",
       "        True,  True, False,  True,  True,  True, False,  True,  True,\n",
       "        True,  True, False,  True,  True,  True,  True,  True,  True,\n",
       "        True,  True, False, False,  True, False,  True,  True,  True,\n",
       "       False,  True,  True,  True,  True,  True,  True, False,  True,\n",
       "        True,  True,  True,  True,  True,  True,  True,  True,  True,\n",
       "        True,  True,  True,  True,  True, False, False,  True,  True,\n",
       "        True, False, False,  True,  True,  True,  True,  True,  True,\n",
       "       False,  True,  True,  True,  True,  True, False,  True,  True,\n",
       "        True,  True, False,  True,  True,  True,  True,  True,  True,\n",
       "       False,  True,  True, False,  True, False,  True, False,  True,\n",
       "        True, False,  True,  True,  True,  True,  True, False,  True,\n",
       "        True,  True,  True,  True,  True,  True,  True,  True,  True,\n",
       "       False, False, False,  True,  True, False,  True,  True,  True,\n",
       "        True, False,  True,  True,  True, False,  True, False,  True,\n",
       "       False,  True, False,  True, False, False,  True,  True, False,\n",
       "        True, False,  True,  True, False,  True, False, False, False,\n",
       "        True,  True,  True,  True,  True,  True,  True, False,  True,\n",
       "        True, False, False,  True,  True,  True,  True,  True,  True,\n",
       "        True,  True,  True,  True, False,  True, False,  True,  True,\n",
       "        True,  True,  True,  True,  True,  True,  True,  True,  True,\n",
       "        True,  True, False,  True,  True,  True,  True, False,  True,\n",
       "       False,  True,  True,  True, False,  True,  True,  True,  True,\n",
       "       False, False,  True, False,  True, False,  True,  True, False,\n",
       "        True, False,  True,  True, False,  True,  True,  True, False,\n",
       "        True,  True,  True,  True, False,  True,  True,  True,  True,\n",
       "        True, False, False,  True,  True,  True, False,  True,  True,\n",
       "        True,  True,  True, False,  True,  True,  True,  True,  True,\n",
       "        True,  True,  True,  True,  True,  True,  True, False, False,\n",
       "        True, False,  True,  True,  True, False,  True,  True,  True,\n",
       "        True, False,  True,  True,  True,  True,  True, False, False,\n",
       "        True, False,  True,  True,  True,  True,  True, False,  True,\n",
       "       False, False, False,  True,  True,  True,  True,  True, False,\n",
       "        True,  True,  True, False,  True,  True,  True, False,  True,\n",
       "        True, False,  True,  True,  True,  True,  True,  True, False,\n",
       "        True, False, False, False,  True,  True,  True,  True,  True,\n",
       "       False,  True,  True, False,  True,  True,  True,  True,  True,\n",
       "        True, False,  True,  True,  True,  True,  True,  True,  True,\n",
       "        True, False,  True, False,  True,  True,  True,  True,  True,\n",
       "       False, False, False,  True,  True,  True,  True,  True, False,\n",
       "        True, False, False,  True, False,  True,  True,  True, False,\n",
       "        True,  True,  True,  True,  True, False,  True,  True,  True,\n",
       "        True, False,  True,  True,  True, False,  True, False, False,\n",
       "        True,  True,  True,  True, False, False,  True, False,  True,\n",
       "        True,  True,  True,  True,  True, False,  True,  True,  True,\n",
       "        True,  True,  True,  True,  True,  True,  True,  True, False,\n",
       "        True,  True,  True,  True,  True,  True,  True, False,  True,\n",
       "        True,  True,  True, False,  True,  True,  True,  True,  True,\n",
       "       False,  True,  True, False,  True, False,  True,  True,  True,\n",
       "        True,  True, False,  True,  True,  True,  True,  True,  True,\n",
       "        True, False,  True, False, False,  True,  True,  True,  True,\n",
       "        True, False, False,  True,  True,  True, False,  True,  True,\n",
       "        True,  True, False, False,  True, False, False, False, False,\n",
       "        True,  True,  True,  True,  True,  True,  True,  True,  True,\n",
       "        True,  True, False,  True,  True,  True,  True,  True,  True,\n",
       "        True,  True, False, False,  True,  True, False,  True,  True,\n",
       "        True,  True,  True,  True,  True,  True,  True, False, False,\n",
       "        True, False,  True, False,  True, False,  True,  True,  True,\n",
       "       False,  True,  True, False,  True, False,  True,  True,  True,\n",
       "        True,  True,  True,  True,  True,  True,  True,  True,  True,\n",
       "        True,  True, False,  True, False,  True,  True,  True,  True,\n",
       "        True, False,  True,  True,  True, False,  True,  True,  True,\n",
       "        True,  True, False,  True, False,  True,  True, False,  True,\n",
       "       False,  True,  True, False,  True,  True,  True,  True, False,\n",
       "        True,  True, False,  True,  True, False,  True,  True,  True,\n",
       "        True,  True,  True, False,  True,  True, False,  True,  True,\n",
       "       False,  True,  True,  True,  True,  True,  True,  True,  True,\n",
       "        True,  True,  True,  True,  True,  True,  True,  True,  True,\n",
       "        True,  True,  True,  True,  True,  True,  True,  True,  True,\n",
       "        True,  True, False,  True,  True, False,  True,  True,  True,\n",
       "        True,  True,  True,  True,  True, False,  True,  True, False,\n",
       "        True, False,  True,  True,  True,  True,  True,  True,  True,\n",
       "        True,  True,  True,  True,  True,  True,  True,  True,  True,\n",
       "        True,  True,  True,  True, False,  True,  True,  True,  True,\n",
       "        True, False,  True,  True, False, False,  True,  True, False,\n",
       "        True, False,  True,  True,  True,  True,  True, False,  True,\n",
       "        True, False,  True,  True,  True,  True,  True,  True,  True,\n",
       "       False,  True,  True, False, False,  True,  True,  True,  True,\n",
       "        True,  True, False,  True, False,  True, False,  True,  True,\n",
       "        True,  True,  True,  True,  True,  True,  True,  True,  True,\n",
       "        True,  True,  True,  True,  True,  True,  True,  True,  True,\n",
       "        True,  True,  True,  True,  True,  True,  True,  True,  True,\n",
       "       False,  True,  True,  True,  True, False,  True, False,  True,\n",
       "        True,  True,  True,  True,  True,  True, False, False,  True,\n",
       "       False,  True,  True,  True,  True,  True,  True,  True,  True,\n",
       "        True,  True,  True,  True,  True,  True, False,  True,  True,\n",
       "       False, False,  True,  True,  True,  True,  True,  True,  True,\n",
       "        True,  True,  True,  True,  True,  True,  True,  True,  True,\n",
       "        True,  True, False, False,  True, False,  True,  True,  True,\n",
       "        True,  True,  True,  True,  True, False, False, False,  True,\n",
       "       False, False, False,  True, False,  True, False,  True, False,\n",
       "        True,  True,  True,  True,  True,  True,  True,  True,  True,\n",
       "       False,  True,  True,  True, False,  True,  True, False,  True,\n",
       "        True,  True,  True,  True,  True,  True, False, False,  True,\n",
       "       False,  True, False,  True,  True, False, False, False,  True,\n",
       "       False,  True,  True,  True,  True,  True,  True,  True, False,\n",
       "        True,  True,  True,  True, False,  True,  True,  True,  True,\n",
       "        True,  True,  True,  True,  True,  True,  True, False, False,\n",
       "        True])"
      ]
     },
     "execution_count": 67,
     "metadata": {},
     "output_type": "execute_result"
    }
   ],
   "source": [
    "#Your code here\n",
    "import math\n",
    "\n",
    "circle_points = (x-1/2)**2 + (y - 1/2)**2\n",
    "inside_arr = circle_points[circle_points < 1/4]\n",
    "inside_arr\n",
    "# inside_x = x < (1/4 - (y-1/2)**2)**(1/2) + 1/2"
   ]
  },
  {
   "cell_type": "code",
   "execution_count": 65,
   "metadata": {},
   "outputs": [
    {
     "data": {
      "text/plain": [
       "'Try again'"
      ]
     },
     "execution_count": 65,
     "metadata": {},
     "output_type": "execute_result"
    }
   ],
   "source": [
    "#run this cell to check inside_x\n",
    "\n",
    "run_test(inside_x, 'inside_x')"
   ]
  },
  {
   "cell_type": "code",
   "execution_count": 197,
   "metadata": {},
   "outputs": [],
   "source": [
    "#run this cell to check inside_y\n",
    "\n",
    "run_test(inside_y, 'inside_y')"
   ]
  },
  {
   "cell_type": "markdown",
   "metadata": {},
   "source": [
    "Do the same thing for the points that lie within the square but outside the circle\n",
    "\n",
    "Ie, select all the points in x and y that satisfy the condition\n",
    "$$ (x^2 + y^2)>\\frac{1}{2} $$\n",
    "assign them to the variables outside_x and outside_y, respectively"
   ]
  },
  {
   "cell_type": "code",
   "execution_count": 176,
   "metadata": {},
   "outputs": [],
   "source": [
    "#Your code here"
   ]
  },
  {
   "cell_type": "code",
   "execution_count": 196,
   "metadata": {},
   "outputs": [],
   "source": [
    "# #run this cell to check outside_x\n",
    "\n",
    "run_test(outside_x, 'outside_x')"
   ]
  },
  {
   "cell_type": "code",
   "execution_count": 195,
   "metadata": {},
   "outputs": [],
   "source": [
    "#run this cell to check outside_y\n",
    "\n",
    "run_test(outside_y, 'outside_y')"
   ]
  },
  {
   "cell_type": "markdown",
   "metadata": {},
   "source": [
    "Now, create a scatter plot of the \"inside circle\" points.  Color them blue, with alpha=.8 and edgecolor=None.\n",
    "\n",
    "Create another scatter plot of the \"outside circle\" points.  Color them red, same alpha / edgecolor as above.\n",
    "\n",
    "Plot both scatter plots in the same graph.\n",
    "\n",
    "Call the title of the graph \"Random Points Distributed across Inscribed Circle in Unit Square to Estimate Pi\".  "
   ]
  },
  {
   "cell_type": "code",
   "execution_count": 182,
   "metadata": {},
   "outputs": [],
   "source": [
    "#Your code here"
   ]
  },
  {
   "cell_type": "markdown",
   "metadata": {},
   "source": [
    "You should produce a figure like the one below (which has a figsize(20,10) and used ax.set_aspect('equal'), fyi)\n",
    "\n",
    "![](viz/delicious_pi.png)"
   ]
  },
  {
   "cell_type": "markdown",
   "metadata": {},
   "source": [
    "#### Calculate Estimate"
   ]
  },
  {
   "cell_type": "markdown",
   "metadata": {},
   "source": [
    "Now, calculate your $\\pi$ estimate\n",
    "\n",
    "Create the following variables:\n",
    "- the number of pts inside the circle\n",
    "    - name this variable pts_in_circle\n",
    "    \n",
    "    \n",
    "- the number of pts outside the circle\n",
    "    - name this variable pts_out_circle\n",
    "    \n",
    "    \n",
    "- an estimate for $\\pi$ that uses pts_in_circle and pts_out_circle\n",
    "    - name this variable pi_est\n",
    "\n",
    "**S t r e t c h goal 1**\n",
    "    \n",
    "- a calculation of the pct error of pi_est \n",
    "    - name this variable pi_est_error_pct\n",
    "    \n",
    "Print a sentence using the above variables that includes the estimate of pi and how many points it's based on \n",
    "\n",
    "(and the error, if you get that far)"
   ]
  },
  {
   "cell_type": "code",
   "execution_count": 184,
   "metadata": {},
   "outputs": [],
   "source": [
    "#Your code here"
   ]
  },
  {
   "cell_type": "code",
   "execution_count": 194,
   "metadata": {},
   "outputs": [],
   "source": [
    "#run this cell to test pts_in_circle, pts_out_circle, pi_est\n",
    "\n",
    "[\n",
    "    print(pair[1]+f'? {run_test(pair[0], pair[1])}')\n",
    "    for pair in \n",
    "    zip(objects, obj_names)\n",
    "]\n",
    "print()"
   ]
  },
  {
   "cell_type": "code",
   "execution_count": 193,
   "metadata": {},
   "outputs": [],
   "source": [
    "#run this cell to test pct error\n",
    "\n",
    "run_test(pi_est_error_pct, 'pi_est_error_pct')"
   ]
  },
  {
   "cell_type": "code",
   "execution_count": 192,
   "metadata": {},
   "outputs": [],
   "source": [
    "#run this cell to test rounded pct error\n",
    "\n",
    "run_test(pi_est_error_pct_rounded, 'pi_est_error_pct_rounded')"
   ]
  },
  {
   "cell_type": "markdown",
   "metadata": {},
   "source": [
    "**S t r e t c h goal 2**\n",
    "\n",
    "\n",
    "Turn your work into a function that:\n",
    "\n",
    "- can take as a parameter an arbitrary number of points to estimate pi\n",
    "\n",
    "- prints a graph like the one above\n",
    "\n",
    "- returns {'pi_estimate': pi_est, 'est_error_pct': pi_est_error_pct} "
   ]
  },
  {
   "cell_type": "code",
   "execution_count": null,
   "metadata": {},
   "outputs": [],
   "source": []
  }
 ],
 "metadata": {
  "kernelspec": {
   "display_name": "Python 3",
   "language": "python",
   "name": "python3"
  },
  "language_info": {
   "codemirror_mode": {
    "name": "ipython",
    "version": 3
   },
   "file_extension": ".py",
   "mimetype": "text/x-python",
   "name": "python",
   "nbconvert_exporter": "python",
   "pygments_lexer": "ipython3",
   "version": "3.6.9"
  }
 },
 "nbformat": 4,
 "nbformat_minor": 4
}
